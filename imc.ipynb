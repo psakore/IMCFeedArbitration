{
  "nbformat": 4,
  "nbformat_minor": 0,
  "metadata": {
    "colab": {
      "provenance": [],
      "mount_file_id": "1vV4I6-zgsMFRPa47C4KhrT55H5jy8kk6",
      "authorship_tag": "ABX9TyOXNSUmEmD+OF3wwG76VFGp",
      "include_colab_link": true
    },
    "kernelspec": {
      "name": "python3",
      "display_name": "Python 3"
    },
    "language_info": {
      "name": "python"
    }
  },
  "cells": [
    {
      "cell_type": "markdown",
      "metadata": {
        "id": "view-in-github",
        "colab_type": "text"
      },
      "source": [
        "<a href=\"https://colab.research.google.com/github/psakore/IMCFeedArbitration/blob/main/imc.ipynb\" target=\"_parent\"><img src=\"https://colab.research.google.com/assets/colab-badge.svg\" alt=\"Open In Colab\"/></a>"
      ]
    },
    {
      "cell_type": "code",
      "source": [
        "!pip install scapy\n",
        "!pip install ipywidgets\n",
        "!jupyter nbextension enable --py widgetsnbextension"
      ],
      "metadata": {
        "id": "xL3AkUpGkfwX"
      },
      "execution_count": null,
      "outputs": []
    },
    {
      "cell_type": "code",
      "source": [
        "import os\n",
        "if not os.path.exists('feed_arbitrage.pcap'):\n",
        "  !wget https://github.com/psakore/IMCFeedArbitration/raw/main/feed_arbitrage.pcap\n"
      ],
      "metadata": {
        "id": "Bm-sl27MFx-g"
      },
      "execution_count": null,
      "outputs": []
    },
    {
      "cell_type": "code",
      "source": [
        "import sys\n",
        "from scapy.all import *\n",
        "import pandas as pd\n",
        "import matplotlib.pyplot as plt\n",
        "import numpy as np\n",
        "from ipywidgets import interact, widgets, Output\n",
        "from IPython.display import display\n",
        "\n",
        "\n",
        "MAX_TIME = 9999999999999999"
      ],
      "metadata": {
        "id": "6KBZ4B9IkMCR"
      },
      "execution_count": 144,
      "outputs": []
    },
    {
      "cell_type": "code",
      "source": [
        "def process_packet(packet, data_dict):\n",
        "    # Extract relevant information from the packet (symbol, seqno, timestamp)\n",
        "    payload = packet.load.decode(\"utf-8\")\n",
        "    symbol = re.search(r\"Symbol: (\\w+)\", payload).group(1)\n",
        "    seqno = int(re.search(r\"Seqno: (\\d+)\", payload).group(1))\n",
        "    timestamp = int(packet.time * 1000000) # converting to int\n",
        "    source_ip = packet[IP].src  # Get the source IP address\n",
        "\n",
        "    # Add the packet information to the data dictionary\n",
        "    key = \"%s_%d\" % (symbol, seqno)\n",
        "    if key not in data_dict:\n",
        "      data_dict[key] = {}\n",
        "    data_dict[key][source_ip] = timestamp"
      ],
      "metadata": {
        "id": "j4LRYgUQk09c"
      },
      "execution_count": 145,
      "outputs": []
    },
    {
      "cell_type": "code",
      "source": [
        "def calculate_metrics(data_dict, num_best):\n",
        "    publishers_tally = {}\n",
        "    for symbol, symbol_data in data_dict.items():\n",
        "        data_dict[symbol]['fastest_pub'] = min(symbol_data['publishers'], key=symbol_data['publishers'].get)\n",
        ""
      ],
      "metadata": {
        "id": "JZ5_rB2ArPes"
      },
      "execution_count": 146,
      "outputs": []
    },
    {
      "cell_type": "code",
      "source": [
        "def main(pcap_file, num_best):\n",
        "    # Initialize a data dictionary to store packet information\n",
        "    data_dict = {}\n",
        "\n",
        "    # Iterate through packets, process them, and calculate metrics\n",
        "    for packet in PcapReader(pcap_file):\n",
        "        if packet.haslayer(UDP):\n",
        "            process_packet(packet, data_dict)\n",
        "\n",
        "    df = pd.DataFrame(data_dict).T\n",
        "    df = df.reindex(sorted(df.columns), axis=1)\n",
        "    df.index.name = 'Symbol_Seqno'\n",
        "    df.fillna(MAX_TIME, inplace=True)\n",
        "    df = df.astype(int)\n",
        "\n",
        "    df['Fastest_Publisher'] = df.idxmin(axis=1)\n",
        "\n",
        "\n",
        "    top_values = df['Fastest_Publisher'].value_counts().head(num_best).index.tolist()\n",
        "\n",
        "    # Filter the DataFrame to include only columns in top_values\n",
        "    filtered_df = df[top_values]\n",
        "    min_time_df = filtered_df.min(axis=1)\n",
        "\n",
        "    #print(min_time_df)\n",
        "\n",
        "main('feed_arbitrage.pcap', 2)"
      ],
      "metadata": {
        "id": "zEHS3MTrk_fn"
      },
      "execution_count": 147,
      "outputs": []
    }
  ]
}